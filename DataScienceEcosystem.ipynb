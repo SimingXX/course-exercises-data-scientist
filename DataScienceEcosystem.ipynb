{
 "cells": [
  {
   "cell_type": "markdown",
   "metadata": {},
   "source": [
    "<center>\n",
    "    <img src=\"https://cf-courses-data.s3.us.cloud-object-storage.appdomain.cloud/IBMDeveloperSkillsNetwork-DS0105EN-SkillsNetwork/labs/Module2/images/SN_web_lightmode.png\" width=\"300\" alt=\"cognitiveclass.ai logo\">\n",
    "</center>\n"
   ]
  },
  {
   "cell_type": "markdown",
   "metadata": {},
   "source": [
    "#### Add your code below following the instructions given in the course\n"
   ]
  },
  {
   "cell_type": "markdown",
   "metadata": {},
   "source": [
    "# Data Science Tools and Ecosystem"
   ]
  },
  {
   "cell_type": "markdown",
   "metadata": {},
   "source": [
    "In this notebook, Data Science Tools and Ecosystem are summarized."
   ]
  },
  {
   "cell_type": "markdown",
   "metadata": {},
   "source": [
    "**Objectives:**\n",
    "* Popular languages for data science includes Python, R, Java, SQL, Julia, and C++.\n",
    "* Open source tools include Jupyter Notebook (for Python, R and Julia), Rstudio (for R), and Spyder (for Python).\n",
    "* Machine Learning model include Supervided Learning, Unsupervided Learming, and Reinforcement Learning. Deep Learning is a special case in ML where emulate the neural network in human's brain.\n",
    "* GitHub is a web-based platform for version control and collaboration,"
   ]
  },
  {
   "cell_type": "markdown",
   "metadata": {},
   "source": [
    "**Some of the popular languages that Data Scientists use are:**\n",
    "1. Python\n",
    "2. R\n",
    "3. Java\n",
    "4. SQL\n",
    "5. Julia\n",
    "6. C++"
   ]
  },
  {
   "cell_type": "markdown",
   "metadata": {},
   "source": [
    "# Some of the commonly used libraries used by Data Scientists include:\n",
    "## Phthon\n",
    "1. **pandas**\tData manipulation and analysis\n",
    "2. **numpy**\t mMthematical operations\n",
    "3. **scikit-learn**\t  ML \n",
    "4. **TensorFlow** \tNeural networks and deep learning\n",
    "5. **matplotlib**, **seaborn**, and **plotly**\tVisualization\n",
    "\n",
    "## R\n",
    "1. **dplyr** and **tidyr** Data manipulation\n",
    "2. **ggplot** and **plotly** Visualization\n",
    "3. **caret** ML"
   ]
  },
  {
   "cell_type": "markdown",
   "metadata": {},
   "source": [
    "# Data Science Tools\n",
    "\n",
    "| Name | Description |\n",
    "| ---- | ----------- |\n",
    "| Jupyter Notebook | Interactive environment for  Python, R, and Julia|\n",
    "| RStudio | Data Manipulation and Visulization for R |\n",
    "| Spyder | Data Manipulation and Visulization for Python |\n"
   ]
  },
  {
   "cell_type": "markdown",
   "metadata": {},
   "source": [
    "### Below are a few examples of evaluating arithmetic expressions in Python\n",
    "\n",
    "$$\n",
    "\\begin{cases}\n",
    "x + y = 1 \\\\\n",
    "x - y = 0\n",
    "\\end{cases}\n",
    "$$"
   ]
  },
  {
   "cell_type": "code",
   "execution_count": 2,
   "metadata": {},
   "outputs": [
    {
     "name": "stdout",
     "output_type": "stream",
     "text": [
      "This a simple arithmetic expression to mutiply then add integers.\n"
     ]
    },
    {
     "data": {
      "text/plain": [
       "17"
      ]
     },
     "execution_count": 2,
     "metadata": {},
     "output_type": "execute_result"
    }
   ],
   "source": [
    "text = \"This a simple arithmetic expression to mutiply then add integers.\"\n",
    "print(text)\n",
    "(3*4)+5"
   ]
  },
  {
   "cell_type": "code",
   "execution_count": 12,
   "metadata": {},
   "outputs": [
    {
     "name": "stdout",
     "output_type": "stream",
     "text": [
      "This will convert 200 minutes to hours by diving by 60:\n",
      "\n",
      "200 minutes equals to 3.3333333333333335 hours.\n"
     ]
    }
   ],
   "source": [
    "introduce = \"This will convert 200 minutes to hours by diving by 60:\"\n",
    "print(introduce)\n",
    "minutes = 200   \n",
    "hours = minutes / 60\n",
    "print()\n",
    "print(f\"{minutes} minutes equals to {hours} hours.\")"
   ]
  },
  {
   "cell_type": "markdown",
   "metadata": {},
   "source": [
    "## Author \n",
    "Siming Xie"
   ]
  }
 ],
 "metadata": {
  "kernelspec": {
   "display_name": "Python 3 (ipykernel)",
   "language": "python",
   "name": "python3"
  },
  "language_info": {
   "codemirror_mode": {
    "name": "ipython",
    "version": 3
   },
   "file_extension": ".py",
   "mimetype": "text/x-python",
   "name": "python",
   "nbconvert_exporter": "python",
   "pygments_lexer": "ipython3",
   "version": "3.12.8"
  }
 },
 "nbformat": 4,
 "nbformat_minor": 4
}
